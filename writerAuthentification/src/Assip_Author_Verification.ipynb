{
  "nbformat": 4,
  "nbformat_minor": 0,
  "metadata": {
    "colab": {
      "name": "Assip Author Verification",
      "provenance": [],
      "collapsed_sections": []
    },
    "kernelspec": {
      "name": "python3",
      "display_name": "Python 3"
    }
  },
  "cells": [
    {
      "cell_type": "code",
      "metadata": {
        "id": "IW0B5AJgPe7D",
        "colab_type": "code",
        "colab": {
          "base_uri": "https://localhost:8080/",
          "height": 151
        },
        "outputId": "4c0b58a7-d6e6-40c4-be04-03f05d88483c"
      },
      "source": [
        "import pandas as pd\n",
        "\n",
        "data = pd.read_csv(\"mocknumeric.csv\", skiprows = 1)\n",
        "\n",
        "print(data.head())\n",
        "X = data.drop('ver.', axis=1)\n",
        "y = data['ver.']"
      ],
      "execution_count": null,
      "outputs": [
        {
          "output_type": "stream",
          "text": [
            "   ratio of X  ratio of Y  ratio of Z  ...  percent of Q  percent of R   ver.\n",
            "0          44          12        0.50  ...            12           0.9   True\n",
            "1          11          33        0.90  ...            54           0.3  False\n",
            "2          94          75        0.43  ...            21           0.7   True\n",
            "3          12          18        0.48  ...             7           0.8   True\n",
            "4          87          33        0.33  ...            24           0.2  False\n",
            "\n",
            "[5 rows x 10 columns]\n"
          ],
          "name": "stdout"
        }
      ]
    },
    {
      "cell_type": "code",
      "metadata": {
        "id": "8X7Cb-JqTyG5",
        "colab_type": "code",
        "colab": {
          "base_uri": "https://localhost:8080/",
          "height": 202
        },
        "outputId": "76a05019-4c26-415b-a279-f9d885164330"
      },
      "source": [
        "from sklearn.feature_selection import f_classif, SelectKBest\n",
        "fvalue_selector = SelectKBest(f_classif, k=4)\n",
        "X_kbest = fvalue_selector.fit_transform(X, y)\n",
        "\n",
        "cols = fvalue_selector.get_support(indices=True) \n",
        "features_df_new = X.iloc[:,cols]\n",
        "\n",
        "print(features_df_new)"
      ],
      "execution_count": null,
      "outputs": [
        {
          "output_type": "stream",
          "text": [
            "   ratio of Z  coefficient of R  percent of P  percent of R\n",
            "0        0.50               9.0            54          0.90\n",
            "1        0.90               4.1            24          0.30\n",
            "2        0.43               8.0            42          0.70\n",
            "3        0.48               6.5            69          0.80\n",
            "4        0.33               3.1            26          0.20\n",
            "5        0.21               5.5            87          0.80\n",
            "6        0.34               1.9            34          0.30\n",
            "7        0.78               2.1            27          0.10\n",
            "8        0.89               5.1            21          0.33\n",
            "9        0.64               4.5            99          0.68\n"
          ],
          "name": "stdout"
        }
      ]
    },
    {
      "cell_type": "code",
      "metadata": {
        "id": "UeFeGJxgSUJq",
        "colab_type": "code",
        "colab": {}
      },
      "source": [
        "from sklearn.model_selection import train_test_split\n",
        "X_train, X_test, y_train, y_test = train_test_split(X, y, test_size = 0.8)"
      ],
      "execution_count": null,
      "outputs": []
    },
    {
      "cell_type": "code",
      "metadata": {
        "id": "JJPhcY9uSg_z",
        "colab_type": "code",
        "colab": {
          "base_uri": "https://localhost:8080/",
          "height": 84
        },
        "outputId": "71a3f8b9-be09-40d0-ddf9-f69e6e9ebaa0"
      },
      "source": [
        "from sklearn.svm import SVC\n",
        "svclassifier = SVC(kernel='linear')\n",
        "svclassifier.fit(X_train, y_train)"
      ],
      "execution_count": null,
      "outputs": [
        {
          "output_type": "execute_result",
          "data": {
            "text/plain": [
              "SVC(C=1.0, break_ties=False, cache_size=200, class_weight=None, coef0=0.0,\n",
              "    decision_function_shape='ovr', degree=3, gamma='scale', kernel='linear',\n",
              "    max_iter=-1, probability=False, random_state=None, shrinking=True,\n",
              "    tol=0.001, verbose=False)"
            ]
          },
          "metadata": {
            "tags": []
          },
          "execution_count": 18
        }
      ]
    },
    {
      "cell_type": "code",
      "metadata": {
        "id": "vS18hLOXS5IJ",
        "colab_type": "code",
        "colab": {
          "base_uri": "https://localhost:8080/",
          "height": 202
        },
        "outputId": "8414aefd-880f-4a6a-bb35-0786127f70e7"
      },
      "source": [
        "y_pred = svclassifier.predict(X_test)\n",
        "\n",
        "from sklearn.metrics import classification_report, confusion_matrix\n",
        "print(confusion_matrix(y_test,y_pred))\n",
        "print(classification_report(y_test,y_pred))"
      ],
      "execution_count": null,
      "outputs": [
        {
          "output_type": "stream",
          "text": [
            "[[1 3]\n",
            " [1 3]]\n",
            "              precision    recall  f1-score   support\n",
            "\n",
            "       False       0.50      0.25      0.33         4\n",
            "        True       0.50      0.75      0.60         4\n",
            "\n",
            "    accuracy                           0.50         8\n",
            "   macro avg       0.50      0.50      0.47         8\n",
            "weighted avg       0.50      0.50      0.47         8\n",
            "\n"
          ],
          "name": "stdout"
        }
      ]
    }
  ]
}